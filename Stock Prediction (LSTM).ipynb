{
 "cells": [
  {
   "cell_type": "code",
   "execution_count": 1,
   "id": "e7fdfba1",
   "metadata": {},
   "outputs": [],
   "source": [
    "import pandas_datareader as pdr\n",
    "import requests\n",
    "import pandas as pd\n",
    "import numpy as np\n",
    "import matplotlib.pyplot as plt\n",
    "import seaborn as sns\n",
    "%matplotlib inline"
   ]
  },
  {
   "cell_type": "code",
   "execution_count": 9,
   "id": "09224694",
   "metadata": {},
   "outputs": [],
   "source": [
    "key = '75f27bb21aa3ed8b78d5aabd4a44acafcf5fd288'\n",
    "symbol = 'AAPL'\n",
    "start_date = '2010-01-01'\n",
    "end_date = '2023-01-01'\n",
    "url = f'https://api.tiingo.com/tiingo/daily/{symbol}/prices?startDate={start_date}&endDate={end_date}&token={key}'\n",
    "response = requests.get(url)\n",
    "dat_json = response.json()"
   ]
  },
  {
   "cell_type": "code",
   "execution_count": 10,
   "id": "b735b578",
   "metadata": {},
   "outputs": [],
   "source": [
    "data_json = pd.DataFrame(dat_json)"
   ]
  },
  {
   "cell_type": "code",
   "execution_count": 11,
   "id": "d940492e",
   "metadata": {},
   "outputs": [],
   "source": [
    "data_json.to_csv('AAPL.csv')"
   ]
  },
  {
   "cell_type": "code",
   "execution_count": 12,
   "id": "a7d6b963",
   "metadata": {},
   "outputs": [],
   "source": [
    "df = pd.read_csv('AAPL.csv')"
   ]
  },
  {
   "cell_type": "code",
   "execution_count": 13,
   "id": "c76887b0",
   "metadata": {},
   "outputs": [
    {
     "data": {
      "text/html": [
       "<div>\n",
       "<style scoped>\n",
       "    .dataframe tbody tr th:only-of-type {\n",
       "        vertical-align: middle;\n",
       "    }\n",
       "\n",
       "    .dataframe tbody tr th {\n",
       "        vertical-align: top;\n",
       "    }\n",
       "\n",
       "    .dataframe thead th {\n",
       "        text-align: right;\n",
       "    }\n",
       "</style>\n",
       "<table border=\"1\" class=\"dataframe\">\n",
       "  <thead>\n",
       "    <tr style=\"text-align: right;\">\n",
       "      <th></th>\n",
       "      <th>Unnamed: 0</th>\n",
       "      <th>date</th>\n",
       "      <th>close</th>\n",
       "      <th>high</th>\n",
       "      <th>low</th>\n",
       "      <th>open</th>\n",
       "      <th>volume</th>\n",
       "      <th>adjClose</th>\n",
       "      <th>adjHigh</th>\n",
       "      <th>adjLow</th>\n",
       "      <th>adjOpen</th>\n",
       "      <th>adjVolume</th>\n",
       "      <th>divCash</th>\n",
       "      <th>splitFactor</th>\n",
       "    </tr>\n",
       "  </thead>\n",
       "  <tbody>\n",
       "    <tr>\n",
       "      <th>0</th>\n",
       "      <td>0</td>\n",
       "      <td>2010-01-04T00:00:00.000Z</td>\n",
       "      <td>214.01</td>\n",
       "      <td>214.50</td>\n",
       "      <td>212.38</td>\n",
       "      <td>213.43</td>\n",
       "      <td>17633200</td>\n",
       "      <td>6.478379</td>\n",
       "      <td>6.493212</td>\n",
       "      <td>6.429036</td>\n",
       "      <td>6.460821</td>\n",
       "      <td>493730093</td>\n",
       "      <td>0.0</td>\n",
       "      <td>1.0</td>\n",
       "    </tr>\n",
       "    <tr>\n",
       "      <th>1</th>\n",
       "      <td>1</td>\n",
       "      <td>2010-01-05T00:00:00.000Z</td>\n",
       "      <td>214.38</td>\n",
       "      <td>215.59</td>\n",
       "      <td>213.25</td>\n",
       "      <td>214.60</td>\n",
       "      <td>21496600</td>\n",
       "      <td>6.489579</td>\n",
       "      <td>6.526207</td>\n",
       "      <td>6.455372</td>\n",
       "      <td>6.496239</td>\n",
       "      <td>601905401</td>\n",
       "      <td>0.0</td>\n",
       "      <td>1.0</td>\n",
       "    </tr>\n",
       "    <tr>\n",
       "      <th>2</th>\n",
       "      <td>2</td>\n",
       "      <td>2010-01-06T00:00:00.000Z</td>\n",
       "      <td>210.97</td>\n",
       "      <td>215.23</td>\n",
       "      <td>210.75</td>\n",
       "      <td>214.38</td>\n",
       "      <td>19720000</td>\n",
       "      <td>6.386354</td>\n",
       "      <td>6.515310</td>\n",
       "      <td>6.379694</td>\n",
       "      <td>6.489579</td>\n",
       "      <td>552160552</td>\n",
       "      <td>0.0</td>\n",
       "      <td>1.0</td>\n",
       "    </tr>\n",
       "    <tr>\n",
       "      <th>3</th>\n",
       "      <td>3</td>\n",
       "      <td>2010-01-07T00:00:00.000Z</td>\n",
       "      <td>210.58</td>\n",
       "      <td>212.00</td>\n",
       "      <td>209.05</td>\n",
       "      <td>211.75</td>\n",
       "      <td>17040400</td>\n",
       "      <td>6.374548</td>\n",
       "      <td>6.417533</td>\n",
       "      <td>6.328232</td>\n",
       "      <td>6.409965</td>\n",
       "      <td>477131677</td>\n",
       "      <td>0.0</td>\n",
       "      <td>1.0</td>\n",
       "    </tr>\n",
       "    <tr>\n",
       "      <th>4</th>\n",
       "      <td>4</td>\n",
       "      <td>2010-01-08T00:00:00.000Z</td>\n",
       "      <td>211.98</td>\n",
       "      <td>212.00</td>\n",
       "      <td>209.06</td>\n",
       "      <td>210.30</td>\n",
       "      <td>15986100</td>\n",
       "      <td>6.416928</td>\n",
       "      <td>6.417533</td>\n",
       "      <td>6.328535</td>\n",
       "      <td>6.366072</td>\n",
       "      <td>447611247</td>\n",
       "      <td>0.0</td>\n",
       "      <td>1.0</td>\n",
       "    </tr>\n",
       "  </tbody>\n",
       "</table>\n",
       "</div>"
      ],
      "text/plain": [
       "   Unnamed: 0                      date   close    high     low    open  \\\n",
       "0           0  2010-01-04T00:00:00.000Z  214.01  214.50  212.38  213.43   \n",
       "1           1  2010-01-05T00:00:00.000Z  214.38  215.59  213.25  214.60   \n",
       "2           2  2010-01-06T00:00:00.000Z  210.97  215.23  210.75  214.38   \n",
       "3           3  2010-01-07T00:00:00.000Z  210.58  212.00  209.05  211.75   \n",
       "4           4  2010-01-08T00:00:00.000Z  211.98  212.00  209.06  210.30   \n",
       "\n",
       "     volume  adjClose   adjHigh    adjLow   adjOpen  adjVolume  divCash  \\\n",
       "0  17633200  6.478379  6.493212  6.429036  6.460821  493730093      0.0   \n",
       "1  21496600  6.489579  6.526207  6.455372  6.496239  601905401      0.0   \n",
       "2  19720000  6.386354  6.515310  6.379694  6.489579  552160552      0.0   \n",
       "3  17040400  6.374548  6.417533  6.328232  6.409965  477131677      0.0   \n",
       "4  15986100  6.416928  6.417533  6.328535  6.366072  447611247      0.0   \n",
       "\n",
       "   splitFactor  \n",
       "0          1.0  \n",
       "1          1.0  \n",
       "2          1.0  \n",
       "3          1.0  \n",
       "4          1.0  "
      ]
     },
     "execution_count": 13,
     "metadata": {},
     "output_type": "execute_result"
    }
   ],
   "source": [
    "df.head()"
   ]
  },
  {
   "cell_type": "code",
   "execution_count": 14,
   "id": "b4415f43",
   "metadata": {},
   "outputs": [],
   "source": [
    "df.drop('Unnamed: 0',axis=1,inplace=True)"
   ]
  },
  {
   "cell_type": "code",
   "execution_count": 21,
   "id": "305e0b28",
   "metadata": {},
   "outputs": [
    {
     "name": "stdout",
     "output_type": "stream",
     "text": [
      "<class 'pandas.core.frame.DataFrame'>\n",
      "RangeIndex: 3272 entries, 0 to 3271\n",
      "Data columns (total 13 columns):\n",
      " #   Column       Non-Null Count  Dtype  \n",
      "---  ------       --------------  -----  \n",
      " 0   date         3272 non-null   object \n",
      " 1   close        3272 non-null   float64\n",
      " 2   high         3272 non-null   float64\n",
      " 3   low          3272 non-null   float64\n",
      " 4   open         3272 non-null   float64\n",
      " 5   volume       3272 non-null   int64  \n",
      " 6   adjClose     3272 non-null   float64\n",
      " 7   adjHigh      3272 non-null   float64\n",
      " 8   adjLow       3272 non-null   float64\n",
      " 9   adjOpen      3272 non-null   float64\n",
      " 10  adjVolume    3272 non-null   int64  \n",
      " 11  divCash      3272 non-null   float64\n",
      " 12  splitFactor  3272 non-null   float64\n",
      "dtypes: float64(10), int64(2), object(1)\n",
      "memory usage: 332.4+ KB\n"
     ]
    }
   ],
   "source": [
    "df.info()"
   ]
  },
  {
   "cell_type": "code",
   "execution_count": 22,
   "id": "69fb20da",
   "metadata": {
    "scrolled": true
   },
   "outputs": [
    {
     "data": {
      "text/html": [
       "<div>\n",
       "<style scoped>\n",
       "    .dataframe tbody tr th:only-of-type {\n",
       "        vertical-align: middle;\n",
       "    }\n",
       "\n",
       "    .dataframe tbody tr th {\n",
       "        vertical-align: top;\n",
       "    }\n",
       "\n",
       "    .dataframe thead th {\n",
       "        text-align: right;\n",
       "    }\n",
       "</style>\n",
       "<table border=\"1\" class=\"dataframe\">\n",
       "  <thead>\n",
       "    <tr style=\"text-align: right;\">\n",
       "      <th></th>\n",
       "      <th>close</th>\n",
       "      <th>high</th>\n",
       "      <th>low</th>\n",
       "      <th>open</th>\n",
       "      <th>volume</th>\n",
       "      <th>adjClose</th>\n",
       "      <th>adjHigh</th>\n",
       "      <th>adjLow</th>\n",
       "      <th>adjOpen</th>\n",
       "      <th>adjVolume</th>\n",
       "      <th>divCash</th>\n",
       "      <th>splitFactor</th>\n",
       "    </tr>\n",
       "  </thead>\n",
       "  <tbody>\n",
       "    <tr>\n",
       "      <th>count</th>\n",
       "      <td>3272.000000</td>\n",
       "      <td>3272.000000</td>\n",
       "      <td>3272.000000</td>\n",
       "      <td>3272.000000</td>\n",
       "      <td>3.272000e+03</td>\n",
       "      <td>3272.000000</td>\n",
       "      <td>3272.000000</td>\n",
       "      <td>3272.000000</td>\n",
       "      <td>3272.000000</td>\n",
       "      <td>3.272000e+03</td>\n",
       "      <td>3272.000000</td>\n",
       "      <td>3272.000000</td>\n",
       "    </tr>\n",
       "    <tr>\n",
       "      <th>mean</th>\n",
       "      <td>253.437777</td>\n",
       "      <td>255.903581</td>\n",
       "      <td>250.803785</td>\n",
       "      <td>253.427734</td>\n",
       "      <td>4.135744e+07</td>\n",
       "      <td>49.194286</td>\n",
       "      <td>49.722404</td>\n",
       "      <td>48.626820</td>\n",
       "      <td>49.170595</td>\n",
       "      <td>2.560435e+08</td>\n",
       "      <td>0.012638</td>\n",
       "      <td>1.002751</td>\n",
       "    </tr>\n",
       "    <tr>\n",
       "      <th>std</th>\n",
       "      <td>156.649804</td>\n",
       "      <td>158.120720</td>\n",
       "      <td>155.126409</td>\n",
       "      <td>156.766632</td>\n",
       "      <td>3.394366e+07</td>\n",
       "      <td>47.560137</td>\n",
       "      <td>48.142559</td>\n",
       "      <td>46.934775</td>\n",
       "      <td>47.531925</td>\n",
       "      <td>2.226763e+08</td>\n",
       "      <td>0.155894</td>\n",
       "      <td>0.117259</td>\n",
       "    </tr>\n",
       "    <tr>\n",
       "      <th>min</th>\n",
       "      <td>90.280000</td>\n",
       "      <td>90.700000</td>\n",
       "      <td>89.470000</td>\n",
       "      <td>90.000000</td>\n",
       "      <td>5.624800e+06</td>\n",
       "      <td>5.813619</td>\n",
       "      <td>5.933191</td>\n",
       "      <td>5.759130</td>\n",
       "      <td>5.823306</td>\n",
       "      <td>3.519586e+07</td>\n",
       "      <td>0.000000</td>\n",
       "      <td>1.000000</td>\n",
       "    </tr>\n",
       "    <tr>\n",
       "      <th>25%</th>\n",
       "      <td>130.553750</td>\n",
       "      <td>131.712500</td>\n",
       "      <td>129.450000</td>\n",
       "      <td>130.682500</td>\n",
       "      <td>1.847527e+07</td>\n",
       "      <td>16.532801</td>\n",
       "      <td>16.721717</td>\n",
       "      <td>16.400536</td>\n",
       "      <td>16.532900</td>\n",
       "      <td>1.019649e+08</td>\n",
       "      <td>0.000000</td>\n",
       "      <td>1.000000</td>\n",
       "    </tr>\n",
       "    <tr>\n",
       "      <th>50%</th>\n",
       "      <td>178.965000</td>\n",
       "      <td>180.500000</td>\n",
       "      <td>177.400000</td>\n",
       "      <td>179.010000</td>\n",
       "      <td>2.926446e+07</td>\n",
       "      <td>27.230842</td>\n",
       "      <td>27.448207</td>\n",
       "      <td>27.097938</td>\n",
       "      <td>27.261215</td>\n",
       "      <td>1.665103e+08</td>\n",
       "      <td>0.000000</td>\n",
       "      <td>1.000000</td>\n",
       "    </tr>\n",
       "    <tr>\n",
       "      <th>75%</th>\n",
       "      <td>349.435000</td>\n",
       "      <td>351.647900</td>\n",
       "      <td>346.067500</td>\n",
       "      <td>348.905000</td>\n",
       "      <td>5.386869e+07</td>\n",
       "      <td>54.646875</td>\n",
       "      <td>55.333110</td>\n",
       "      <td>54.252124</td>\n",
       "      <td>54.805538</td>\n",
       "      <td>3.455630e+08</td>\n",
       "      <td>0.000000</td>\n",
       "      <td>1.000000</td>\n",
       "    </tr>\n",
       "    <tr>\n",
       "      <th>max</th>\n",
       "      <td>702.100000</td>\n",
       "      <td>705.070000</td>\n",
       "      <td>699.570000</td>\n",
       "      <td>702.410000</td>\n",
       "      <td>3.326072e+08</td>\n",
       "      <td>179.958601</td>\n",
       "      <td>180.878119</td>\n",
       "      <td>177.101173</td>\n",
       "      <td>180.571613</td>\n",
       "      <td>1.881000e+09</td>\n",
       "      <td>3.290000</td>\n",
       "      <td>7.000007</td>\n",
       "    </tr>\n",
       "  </tbody>\n",
       "</table>\n",
       "</div>"
      ],
      "text/plain": [
       "             close         high          low         open        volume  \\\n",
       "count  3272.000000  3272.000000  3272.000000  3272.000000  3.272000e+03   \n",
       "mean    253.437777   255.903581   250.803785   253.427734  4.135744e+07   \n",
       "std     156.649804   158.120720   155.126409   156.766632  3.394366e+07   \n",
       "min      90.280000    90.700000    89.470000    90.000000  5.624800e+06   \n",
       "25%     130.553750   131.712500   129.450000   130.682500  1.847527e+07   \n",
       "50%     178.965000   180.500000   177.400000   179.010000  2.926446e+07   \n",
       "75%     349.435000   351.647900   346.067500   348.905000  5.386869e+07   \n",
       "max     702.100000   705.070000   699.570000   702.410000  3.326072e+08   \n",
       "\n",
       "          adjClose      adjHigh       adjLow      adjOpen     adjVolume  \\\n",
       "count  3272.000000  3272.000000  3272.000000  3272.000000  3.272000e+03   \n",
       "mean     49.194286    49.722404    48.626820    49.170595  2.560435e+08   \n",
       "std      47.560137    48.142559    46.934775    47.531925  2.226763e+08   \n",
       "min       5.813619     5.933191     5.759130     5.823306  3.519586e+07   \n",
       "25%      16.532801    16.721717    16.400536    16.532900  1.019649e+08   \n",
       "50%      27.230842    27.448207    27.097938    27.261215  1.665103e+08   \n",
       "75%      54.646875    55.333110    54.252124    54.805538  3.455630e+08   \n",
       "max     179.958601   180.878119   177.101173   180.571613  1.881000e+09   \n",
       "\n",
       "           divCash  splitFactor  \n",
       "count  3272.000000  3272.000000  \n",
       "mean      0.012638     1.002751  \n",
       "std       0.155894     0.117259  \n",
       "min       0.000000     1.000000  \n",
       "25%       0.000000     1.000000  \n",
       "50%       0.000000     1.000000  \n",
       "75%       0.000000     1.000000  \n",
       "max       3.290000     7.000007  "
      ]
     },
     "execution_count": 22,
     "metadata": {},
     "output_type": "execute_result"
    }
   ],
   "source": [
    "df.describe()"
   ]
  },
  {
   "cell_type": "code",
   "execution_count": 23,
   "id": "d1e392b5",
   "metadata": {},
   "outputs": [],
   "source": [
    "closing_col = df.reset_index()['close']"
   ]
  },
  {
   "cell_type": "code",
   "execution_count": 24,
   "id": "065d1427",
   "metadata": {
    "scrolled": false
   },
   "outputs": [
    {
     "data": {
      "text/plain": [
       "[<matplotlib.lines.Line2D at 0x1c5f5cb68d0>]"
      ]
     },
     "execution_count": 24,
     "metadata": {},
     "output_type": "execute_result"
    },
    {
     "data": {
      "image/png": "[encoded data removed]",
      "text/plain": [
       "<Figure size 640x480 with 1 Axes>"
      ]
     },
     "metadata": {},
     "output_type": "display_data"
    }
   ],
   "source": [
    "plt.plot(closing_col)"
   ]
  },
  {
   "cell_type": "code",
   "execution_count": 26,
   "id": "2b1c73a2",
   "metadata": {},
   "outputs": [],
   "source": [
    "closing_col = np.array(data).reshape(-1,1)"
   ]
  },
  {
   "cell_type": "code",
   "execution_count": 27,
   "id": "eb9970f5",
   "metadata": {},
   "outputs": [
    {
     "data": {
      "text/plain": [
       "(3272, 1)"
      ]
     },
     "execution_count": 27,
     "metadata": {},
     "output_type": "execute_result"
    }
   ],
   "source": [
    "closing_col.shape"
   ]
  },
  {
   "cell_type": "code",
   "execution_count": 28,
   "id": "81316b5f",
   "metadata": {},
   "outputs": [],
   "source": [
    "from sklearn.preprocessing import MinMaxScaler"
   ]
  },
  {
   "cell_type": "code",
   "execution_count": 31,
   "id": "ab0315b2",
   "metadata": {},
   "outputs": [],
   "source": [
    "scaler = MinMaxScaler(feature_range=(0,1))\n",
    "closing_col = scaler.fit_transform(closing_col)"
   ]
  },
  {
   "cell_type": "code",
   "execution_count": 33,
   "id": "3e415268",
   "metadata": {},
   "outputs": [],
   "source": [
    "train_size = int(len(closing_col) * 0.70)\n",
    "test_size = int(len(closing_col) - train_size)"
   ]
  },
  {
   "cell_type": "code",
   "execution_count": 34,
   "id": "9e3900b6",
   "metadata": {},
   "outputs": [],
   "source": [
    "train_data,test_data = closing_col[0:train_size,:],closing_col[train_size:len(closing_col),:1]"
   ]
  },
  {
   "cell_type": "code",
   "execution_count": 38,
   "id": "d5c93023",
   "metadata": {},
   "outputs": [
    {
     "data": {
      "text/plain": [
       "((2290, 1), (982, 1))"
      ]
     },
     "execution_count": 38,
     "metadata": {},
     "output_type": "execute_result"
    }
   ],
   "source": [
    "train_data.shape,test_data.shape"
   ]
  },
  {
   "cell_type": "code",
   "execution_count": 42,
   "id": "932b508f",
   "metadata": {},
   "outputs": [],
   "source": [
    "def create_dataset(dataset,time_step=1):\n",
    "    dataX,dataY = [],[]\n",
    "    for i in range(len(dataset) - time_step-1):\n",
    "        a = dataset[i:(i+time_step),0]\n",
    "        dataX.append(a)\n",
    "        dataY.append(dataset[i + time_step,0])\n",
    "    return np.array(dataX) , np.array(dataY)"
   ]
  },
  {
   "cell_type": "code",
   "execution_count": 43,
   "id": "849c61c1",
   "metadata": {},
   "outputs": [],
   "source": [
    "time_step = 100\n",
    "X_train , y_train = create_dataset(train_data,time_step)\n",
    "X_test, y_test = create_dataset(test_data,time_step)"
   ]
  },
  {
   "cell_type": "code",
   "execution_count": 44,
   "id": "a11e9a16",
   "metadata": {},
   "outputs": [
    {
     "data": {
      "text/plain": [
       "array([[0.20223268, 0.20283744, 0.1972639 , ..., 0.2557615 , 0.25324442,\n",
       "        0.25142852],\n",
       "       [0.20283744, 0.1972639 , 0.19662646, ..., 0.25324442, 0.25142852,\n",
       "        0.26653264],\n",
       "       [0.1972639 , 0.19662646, 0.19891471, ..., 0.25142852, 0.26653264,\n",
       "        0.27230231],\n",
       "       ...,\n",
       "       [0.20929358, 0.21831584, 0.21377202, ..., 0.12253604, 0.12448106,\n",
       "        0.12461181],\n",
       "       [0.21831584, 0.21377202, 0.22250008, ..., 0.12448106, 0.12461181,\n",
       "        0.13234285],\n",
       "       [0.21377202, 0.22250008, 0.2182995 , ..., 0.12461181, 0.13234285,\n",
       "        0.13713184]])"
      ]
     },
     "execution_count": 44,
     "metadata": {},
     "output_type": "execute_result"
    }
   ],
   "source": [
    "X_train"
   ]
  },
  {
   "cell_type": "code",
   "execution_count": 46,
   "id": "1bacdddc",
   "metadata": {},
   "outputs": [
    {
     "data": {
      "text/plain": [
       "(2189, 100)"
      ]
     },
     "execution_count": 46,
     "metadata": {},
     "output_type": "execute_result"
    }
   ],
   "source": [
    "X_train.shape"
   ]
  },
  {
   "cell_type": "code",
   "execution_count": 47,
   "id": "1ade57e1",
   "metadata": {},
   "outputs": [],
   "source": [
    "X_train = X_train.reshape(X_train.shape[0],X_train.shape[1],1)\n",
    "X_test = X_test.reshape(X_test.shape[0],X_test.shape[1],1)"
   ]
  },
  {
   "cell_type": "code",
   "execution_count": 49,
   "id": "51c199fb",
   "metadata": {},
   "outputs": [],
   "source": [
    "from tensorflow.keras.models import Sequential\n",
    "from tensorflow.keras.layers import Dense, LSTM"
   ]
  },
  {
   "cell_type": "code",
   "execution_count": 50,
   "id": "dfbbfabe",
   "metadata": {},
   "outputs": [],
   "source": [
    "model = Sequential()"
   ]
  },
  {
   "cell_type": "code",
   "execution_count": 52,
   "id": "168c1508",
   "metadata": {},
   "outputs": [],
   "source": [
    "model.add(LSTM(128,return_sequences=True,input_shape=(100,1)))\n",
    "model.add(LSTM(64,return_sequences=True))\n",
    "model.add(LSTM(64))\n",
    "model.add(Dense(1))"
   ]
  },
  {
   "cell_type": "code",
   "execution_count": 53,
   "id": "7c15f938",
   "metadata": {},
   "outputs": [],
   "source": [
    "model.compile(loss='mean_squared_error',optimizer='adam')"
   ]
  },
  {
   "cell_type": "code",
   "execution_count": 54,
   "id": "bdecf3ed",
   "metadata": {},
   "outputs": [
    {
     "name": "stdout",
     "output_type": "stream",
     "text": [
      "Model: \"sequential\"\n",
      "_________________________________________________________________\n",
      " Layer (type)                Output Shape              Param #   \n",
      "=================================================================\n",
      " lstm (LSTM)                 (None, 100, 128)          66560     \n",
      "                                                                 \n",
      " lstm_1 (LSTM)               (None, 100, 64)           49408     \n",
      "                                                                 \n",
      " lstm_2 (LSTM)               (None, 64)                33024     \n",
      "                                                                 \n",
      " dense (Dense)               (None, 1)                 65        \n",
      "                                                                 \n",
      "=================================================================\n",
      "Total params: 149057 (582.25 KB)\n",
      "Trainable params: 149057 (582.25 KB)\n",
      "Non-trainable params: 0 (0.00 Byte)\n",
      "_________________________________________________________________\n"
     ]
    }
   ],
   "source": [
    "model.summary()"
   ]
  },
  {
   "cell_type": "code",
   "execution_count": 55,
   "id": "2da34e14",
   "metadata": {},
   "outputs": [
    {
     "name": "stdout",
     "output_type": "stream",
     "text": [
      "Epoch 1/60\n",
      "35/35 [==============================] - 55s 943ms/step - loss: 0.0171 - val_loss: 0.0038\n",
      "Epoch 2/60\n",
      "35/35 [==============================] - 25s 719ms/step - loss: 0.0039 - val_loss: 0.0033\n",
      "Epoch 3/60\n",
      "35/35 [==============================] - 26s 742ms/step - loss: 0.0031 - val_loss: 0.0031\n",
      "Epoch 4/60\n",
      "35/35 [==============================] - 26s 726ms/step - loss: 0.0028 - val_loss: 0.0032\n",
      "Epoch 5/60\n",
      "35/35 [==============================] - 28s 796ms/step - loss: 0.0027 - val_loss: 0.0028\n",
      "Epoch 6/60\n",
      "35/35 [==============================] - 27s 767ms/step - loss: 0.0024 - val_loss: 0.0024\n",
      "Epoch 7/60\n",
      "35/35 [==============================] - 25s 714ms/step - loss: 0.0020 - val_loss: 0.0020\n",
      "Epoch 8/60\n",
      "35/35 [==============================] - 28s 810ms/step - loss: 0.0019 - val_loss: 0.0019\n",
      "Epoch 9/60\n",
      "35/35 [==============================] - 29s 842ms/step - loss: 0.0020 - val_loss: 0.0017\n",
      "Epoch 10/60\n",
      "35/35 [==============================] - 29s 820ms/step - loss: 0.0016 - val_loss: 0.0016\n",
      "Epoch 11/60\n",
      "35/35 [==============================] - 29s 820ms/step - loss: 0.0015 - val_loss: 0.0014\n",
      "Epoch 12/60\n",
      "35/35 [==============================] - 28s 808ms/step - loss: 0.0014 - val_loss: 0.0014\n",
      "Epoch 13/60\n",
      "35/35 [==============================] - 28s 805ms/step - loss: 0.0013 - val_loss: 0.0013\n",
      "Epoch 14/60\n",
      "35/35 [==============================] - 25s 718ms/step - loss: 0.0011 - val_loss: 0.0012\n",
      "Epoch 15/60\n",
      "35/35 [==============================] - 23s 647ms/step - loss: 0.0011 - val_loss: 0.0011\n",
      "Epoch 16/60\n",
      "35/35 [==============================] - 26s 733ms/step - loss: 0.0011 - val_loss: 0.0011\n",
      "Epoch 17/60\n",
      "35/35 [==============================] - 26s 756ms/step - loss: 9.4699e-04 - val_loss: 0.0011\n",
      "Epoch 18/60\n",
      "35/35 [==============================] - 26s 732ms/step - loss: 9.2094e-04 - val_loss: 9.1634e-04\n",
      "Epoch 19/60\n",
      "35/35 [==============================] - 23s 646ms/step - loss: 8.3213e-04 - val_loss: 9.1374e-04\n",
      "Epoch 20/60\n",
      "35/35 [==============================] - 26s 759ms/step - loss: 8.1993e-04 - val_loss: 8.9829e-04\n",
      "Epoch 21/60\n",
      "35/35 [==============================] - 26s 746ms/step - loss: 8.7689e-04 - val_loss: 8.0099e-04\n",
      "Epoch 22/60\n",
      "35/35 [==============================] - 23s 669ms/step - loss: 8.3223e-04 - val_loss: 7.8485e-04\n",
      "Epoch 23/60\n",
      "35/35 [==============================] - 25s 706ms/step - loss: 8.0008e-04 - val_loss: 7.3800e-04\n",
      "Epoch 24/60\n",
      "35/35 [==============================] - 25s 720ms/step - loss: 8.0985e-04 - val_loss: 7.8895e-04\n",
      "Epoch 25/60\n",
      "35/35 [==============================] - 25s 731ms/step - loss: 7.6314e-04 - val_loss: 6.9867e-04\n",
      "Epoch 26/60\n",
      "35/35 [==============================] - 24s 697ms/step - loss: 8.2028e-04 - val_loss: 7.6015e-04\n",
      "Epoch 27/60\n",
      "35/35 [==============================] - 28s 800ms/step - loss: 6.7611e-04 - val_loss: 6.6982e-04\n",
      "Epoch 28/60\n",
      "35/35 [==============================] - 26s 752ms/step - loss: 6.4845e-04 - val_loss: 6.2582e-04\n",
      "Epoch 29/60\n",
      "35/35 [==============================] - 26s 749ms/step - loss: 5.5365e-04 - val_loss: 0.0023\n",
      "Epoch 30/60\n",
      "35/35 [==============================] - 27s 782ms/step - loss: 0.0023 - val_loss: 7.9339e-04\n",
      "Epoch 31/60\n",
      "35/35 [==============================] - 25s 724ms/step - loss: 6.8081e-04 - val_loss: 6.5041e-04\n",
      "Epoch 32/60\n",
      "35/35 [==============================] - 25s 705ms/step - loss: 5.8377e-04 - val_loss: 6.1697e-04\n",
      "Epoch 33/60\n",
      "35/35 [==============================] - 27s 782ms/step - loss: 5.6509e-04 - val_loss: 0.0012\n",
      "Epoch 34/60\n",
      "35/35 [==============================] - 24s 703ms/step - loss: 0.0018 - val_loss: 6.7678e-04\n",
      "Epoch 35/60\n",
      "35/35 [==============================] - 26s 755ms/step - loss: 6.0639e-04 - val_loss: 6.0637e-04\n",
      "Epoch 36/60\n",
      "35/35 [==============================] - 25s 708ms/step - loss: 5.3523e-04 - val_loss: 5.7752e-04\n",
      "Epoch 37/60\n",
      "35/35 [==============================] - 26s 731ms/step - loss: 5.4988e-04 - val_loss: 5.9136e-04\n",
      "Epoch 38/60\n",
      "35/35 [==============================] - 28s 794ms/step - loss: 5.8572e-04 - val_loss: 5.5563e-04\n",
      "Epoch 39/60\n",
      "35/35 [==============================] - 26s 736ms/step - loss: 5.2843e-04 - val_loss: 5.9300e-04\n",
      "Epoch 40/60\n",
      "35/35 [==============================] - 26s 735ms/step - loss: 5.7309e-04 - val_loss: 5.8189e-04\n",
      "Epoch 41/60\n",
      "35/35 [==============================] - 26s 733ms/step - loss: 5.3056e-04 - val_loss: 5.4850e-04\n",
      "Epoch 42/60\n",
      "35/35 [==============================] - 24s 689ms/step - loss: 5.3182e-04 - val_loss: 5.5021e-04\n",
      "Epoch 43/60\n",
      "35/35 [==============================] - 28s 810ms/step - loss: 5.7014e-04 - val_loss: 5.3846e-04\n",
      "Epoch 44/60\n",
      "35/35 [==============================] - 26s 740ms/step - loss: 5.3933e-04 - val_loss: 5.5716e-04\n",
      "Epoch 45/60\n",
      "35/35 [==============================] - 25s 728ms/step - loss: 6.0860e-04 - val_loss: 5.3165e-04\n",
      "Epoch 46/60\n",
      "35/35 [==============================] - 28s 811ms/step - loss: 5.0673e-04 - val_loss: 5.3498e-04\n",
      "Epoch 47/60\n",
      "35/35 [==============================] - 25s 726ms/step - loss: 5.0309e-04 - val_loss: 5.3455e-04\n",
      "Epoch 48/60\n",
      "35/35 [==============================] - 25s 717ms/step - loss: 5.6610e-04 - val_loss: 5.2938e-04\n",
      "Epoch 49/60\n",
      "35/35 [==============================] - 28s 790ms/step - loss: 5.5633e-04 - val_loss: 5.6651e-04\n",
      "Epoch 50/60\n",
      "35/35 [==============================] - 25s 730ms/step - loss: 5.2320e-04 - val_loss: 5.5351e-04\n",
      "Epoch 51/60\n",
      "35/35 [==============================] - 26s 746ms/step - loss: 6.8112e-04 - val_loss: 5.4912e-04\n",
      "Epoch 52/60\n",
      "35/35 [==============================] - 27s 777ms/step - loss: 5.2681e-04 - val_loss: 5.3246e-04\n",
      "Epoch 53/60\n",
      "35/35 [==============================] - 25s 720ms/step - loss: 5.0721e-04 - val_loss: 6.4843e-04\n",
      "Epoch 54/60\n",
      "35/35 [==============================] - 27s 769ms/step - loss: 5.7456e-04 - val_loss: 5.7622e-04\n",
      "Epoch 55/60\n",
      "35/35 [==============================] - 27s 780ms/step - loss: 5.3601e-04 - val_loss: 5.2592e-04\n",
      "Epoch 56/60\n",
      "35/35 [==============================] - 25s 722ms/step - loss: 5.5221e-04 - val_loss: 6.0017e-04\n",
      "Epoch 57/60\n",
      "35/35 [==============================] - 27s 775ms/step - loss: 5.4669e-04 - val_loss: 5.3020e-04\n",
      "Epoch 58/60\n",
      "35/35 [==============================] - 26s 754ms/step - loss: 5.1731e-04 - val_loss: 5.3361e-04\n",
      "Epoch 59/60\n",
      "35/35 [==============================] - 25s 717ms/step - loss: 5.0648e-04 - val_loss: 5.2613e-04\n",
      "Epoch 60/60\n",
      "35/35 [==============================] - 27s 781ms/step - loss: 5.0448e-04 - val_loss: 6.2932e-04\n"
     ]
    },
    {
     "data": {
      "text/plain": [
       "<keras.src.callbacks.History at 0x1c5853b9210>"
      ]
     },
     "execution_count": 55,
     "metadata": {},
     "output_type": "execute_result"
    }
   ],
   "source": [
    "model.fit(X_train,y_train,validation_data=(X_test,y_test),epochs=60,batch_size=64,verbose=1)"
   ]
  },
  {
   "cell_type": "code",
   "execution_count": 56,
   "id": "33f068c2",
   "metadata": {},
   "outputs": [
    {
     "name": "stdout",
     "output_type": "stream",
     "text": [
      "69/69 [==============================] - 17s 207ms/step\n",
      "28/28 [==============================] - 5s 182ms/step\n"
     ]
    }
   ],
   "source": [
    "train_pred = model.predict(X_train)\n",
    "test_pred = model.predict(X_test)"
   ]
  },
  {
   "cell_type": "code",
   "execution_count": 57,
   "id": "4427a6c3",
   "metadata": {},
   "outputs": [],
   "source": [
    "train_pred = scaler.inverse_transformsformse_transform(train_pred)\n",
    "test_pred = scaler.inverse_transform(test_pred)"
   ]
  },
  {
   "cell_type": "code",
   "execution_count": 58,
   "id": "5cb2d508",
   "metadata": {},
   "outputs": [],
   "source": [
    "from sklearn.metrics import mean_squared_error"
   ]
  },
  {
   "cell_type": "code",
   "execution_count": 59,
   "id": "581f1329",
   "metadata": {},
   "outputs": [
    {
     "data": {
      "text/plain": [
       "317.7319566214245"
      ]
     },
     "execution_count": 59,
     "metadata": {},
     "output_type": "execute_result"
    }
   ],
   "source": [
    "# Train Eval\n",
    "np.sqrt(mean_squared_error(y_train,train_pred))"
   ]
  },
  {
   "cell_type": "code",
   "execution_count": 60,
   "id": "0110097b",
   "metadata": {},
   "outputs": [
    {
     "data": {
      "text/plain": [
       "201.95066380094718"
      ]
     },
     "execution_count": 60,
     "metadata": {},
     "output_type": "execute_result"
    }
   ],
   "source": [
    "# Test Eval\n",
    "np.sqrt(mean_squared_error(y_test,test_pred))"
   ]
  }
 ],
 "metadata": {
  "kernelspec": {
   "display_name": "Python 3 (ipykernel)",
   "language": "python",
   "name": "python3"
  },
  "language_info": {
   "codemirror_mode": {
    "name": "ipython",
    "version": 3
   },
   "file_extension": ".py",
   "mimetype": "text/x-python",
   "name": "python",
   "nbconvert_exporter": "python",
   "pygments_lexer": "ipython3",
   "version": "3.11.3"
  }
 },
 "nbformat": 4,
 "nbformat_minor": 5
}
